{
 "cells": [
  {
   "cell_type": "markdown",
   "metadata": {},
   "source": [
    "# SQLMESH_explore\n"
   ]
  },
  {
   "cell_type": "code",
   "execution_count": null,
   "metadata": {},
   "outputs": [
    {
     "name": "stderr",
     "output_type": "stream",
     "text": [
      "/Users/fredguth/Code/sus/sqlmesh/.env/lib/python3.11/site-packages/fastprogress/fastprogress.py:107: UserWarning: Couldn't import ipywidgets properly, progress bar will use console behavior\n",
      "  warn(\"Couldn't import ipywidgets properly, progress bar will use console behavior\")\n"
     ]
    }
   ],
   "source": [
    "import json\n",
    "import duckdb\n",
    "import ipywidgets\n",
    "from fastprogress.fastprogress import master_bar, progress_bar\n",
    "import pandas as pd\n",
    "import requests\n",
    "import os"
   ]
  },
  {
   "cell_type": "markdown",
   "metadata": {},
   "source": [
    "Agora que já baixamos os Materiais e colocamos no BD, vamos baixar as unidades que são usadas pelos materiais que baixamos."
   ]
  },
  {
   "cell_type": "code",
   "execution_count": 1,
   "metadata": {},
   "outputs": [
    {
     "name": "stderr",
     "output_type": "stream",
     "text": [
      "/Users/fredguth/Code/sus/sqlmesh/.env/lib/python3.11/site-packages/fastprogress/fastprogress.py:107: UserWarning: Couldn't import ipywidgets properly, progress bar will use console behavior\n",
      "  warn(\"Couldn't import ipywidgets properly, progress bar will use console behavior\")\n"
     ]
    }
   ],
   "source": [
    "import json\n",
    "import duckdb\n",
    "import ipywidgets\n",
    "from fastprogress.fastprogress import master_bar, progress_bar\n",
    "import pandas as pd\n",
    "import requests\n",
    "import os"
   ]
  },
  {
   "cell_type": "code",
   "execution_count": 2,
   "metadata": {},
   "outputs": [],
   "source": [
    "db = duckdb.connect('../db.db') "
   ]
  },
  {
   "cell_type": "code",
   "execution_count": 7,
   "metadata": {},
   "outputs": [
    {
     "data": {
      "text/plain": [
       "[('[{\"name\": \"\\\\\"db\\\\\".\\\\\"br_ibge__dtb\\\\\".\\\\\"territorio\\\\\"\", \"change_category\": 1, \"fingerprint\": {\"data_hash\": \"3190608320\", \"metadata_hash\": \"2709304121\", \"parent_data_hash\": \"0\", \"parent_metadata_hash\": \"0\"}, \"previous_versions\": [], \"version\": \"3390729591\", \"physical_schema\": \"sqlmesh__br_ibge__dtb\", \"parents\": [], \"kind_name\": \"FULL\", \"node_type\": \"model\"}, {\"name\": \"\\\\\"db\\\\\".\\\\\"br_mgi__siasg\\\\\".\\\\\"materiais\\\\\"\", \"change_category\": 1, \"fingerprint\": {\"data_hash\": \"308998398\", \"metadata_hash\": \"2875864287\", \"parent_data_hash\": \"0\", \"parent_metadata_hash\": \"0\"}, \"previous_versions\": [], \"version\": \"871649237\", \"physical_schema\": \"sqlmesh__br_mgi__siasg\", \"parents\": [], \"kind_name\": \"FULL\", \"node_type\": \"model\"}, {\"name\": \"\\\\\"db\\\\\".\\\\\"br_mgi__siasg\\\\\".\\\\\"compras\\\\\"\", \"change_category\": 1, \"fingerprint\": {\"data_hash\": \"3430017474\", \"metadata_hash\": \"2109228832\", \"parent_data_hash\": \"0\", \"parent_metadata_hash\": \"0\"}, \"previous_versions\": [{\"fingerprint\": {\"data_hash\": \"2224546688\", \"metadata_hash\": \"212238648\", \"parent_data_hash\": \"0\", \"parent_metadata_hash\": \"0\"}, \"version\": \"2228589006\", \"change_category\": 1, \"physical_schema\": \"sqlmesh__br_mgi__siasg\"}], \"version\": \"3218499044\", \"physical_schema\": \"sqlmesh__br_mgi__siasg\", \"parents\": [], \"kind_name\": \"FULL\", \"node_type\": \"model\"}, {\"name\": \"\\\\\"db\\\\\".\\\\\"br_mgi__siasg\\\\\".\\\\\"unidades\\\\\"\", \"change_category\": 1, \"fingerprint\": {\"data_hash\": \"4175166644\", \"metadata_hash\": \"2068377426\", \"parent_data_hash\": \"0\", \"parent_metadata_hash\": \"0\"}, \"previous_versions\": [{\"fingerprint\": {\"data_hash\": \"2040799506\", \"metadata_hash\": \"2068377426\", \"parent_data_hash\": \"0\", \"parent_metadata_hash\": \"0\"}, \"version\": \"3596984857\", \"change_category\": 1, \"physical_schema\": \"sqlmesh__br_mgi__siasg\"}], \"version\": \"1396823079\", \"physical_schema\": \"sqlmesh__br_mgi__siasg\", \"parents\": [], \"kind_name\": \"FULL\", \"node_type\": \"model\"}, {\"name\": \"\\\\\"db\\\\\".\\\\\"br_mgi__siasg\\\\\".\\\\\"uasgs\\\\\"\", \"change_category\": 1, \"fingerprint\": {\"data_hash\": \"2838284114\", \"metadata_hash\": \"2462145869\", \"parent_data_hash\": \"0\", \"parent_metadata_hash\": \"0\"}, \"previous_versions\": [], \"version\": \"689175032\", \"physical_schema\": \"sqlmesh__br_mgi__siasg\", \"parents\": [], \"kind_name\": \"FULL\", \"node_type\": \"model\"}]',)]"
      ]
     },
     "execution_count": 7,
     "metadata": {},
     "output_type": "execute_result"
    }
   ],
   "source": [
    "s = db.execute(\"SELECT snapshots FROM sqlmesh._environments WHERE name='dev'\").fetchall()\n",
    "s"
   ]
  },
  {
   "cell_type": "code",
   "execution_count": 8,
   "metadata": {},
   "outputs": [],
   "source": [
    "json_result = [json.loads(row[0]) for row in s]"
   ]
  },
  {
   "cell_type": "code",
   "execution_count": 11,
   "metadata": {},
   "outputs": [
    {
     "name": "stdout",
     "output_type": "stream",
     "text": [
      "[\n",
      "    [\n",
      "        {\n",
      "            \"name\": \"\\\"db\\\".\\\"br_ibge__dtb\\\".\\\"territorio\\\"\",\n",
      "            \"change_category\": 1,\n",
      "            \"fingerprint\": {\n",
      "                \"data_hash\": \"3190608320\",\n",
      "                \"metadata_hash\": \"2709304121\",\n",
      "                \"parent_data_hash\": \"0\",\n",
      "                \"parent_metadata_hash\": \"0\"\n",
      "            },\n",
      "            \"previous_versions\": [],\n",
      "            \"version\": \"3390729591\",\n",
      "            \"physical_schema\": \"sqlmesh__br_ibge__dtb\",\n",
      "            \"parents\": [],\n",
      "            \"kind_name\": \"FULL\",\n",
      "            \"node_type\": \"model\"\n",
      "        },\n",
      "        {\n",
      "            \"name\": \"\\\"db\\\".\\\"br_mgi__siasg\\\".\\\"materiais\\\"\",\n",
      "            \"change_category\": 1,\n",
      "            \"fingerprint\": {\n",
      "                \"data_hash\": \"308998398\",\n",
      "                \"metadata_hash\": \"2875864287\",\n",
      "                \"parent_data_hash\": \"0\",\n",
      "                \"parent_metadata_hash\": \"0\"\n",
      "            },\n",
      "            \"previous_versions\": [],\n",
      "            \"version\": \"871649237\",\n",
      "            \"physical_schema\": \"sqlmesh__br_mgi__siasg\",\n",
      "            \"parents\": [],\n",
      "            \"kind_name\": \"FULL\",\n",
      "            \"node_type\": \"model\"\n",
      "        },\n",
      "        {\n",
      "            \"name\": \"\\\"db\\\".\\\"br_mgi__siasg\\\".\\\"compras\\\"\",\n",
      "            \"change_category\": 1,\n",
      "            \"fingerprint\": {\n",
      "                \"data_hash\": \"3430017474\",\n",
      "                \"metadata_hash\": \"2109228832\",\n",
      "                \"parent_data_hash\": \"0\",\n",
      "                \"parent_metadata_hash\": \"0\"\n",
      "            },\n",
      "            \"previous_versions\": [\n",
      "                {\n",
      "                    \"fingerprint\": {\n",
      "                        \"data_hash\": \"2224546688\",\n",
      "                        \"metadata_hash\": \"212238648\",\n",
      "                        \"parent_data_hash\": \"0\",\n",
      "                        \"parent_metadata_hash\": \"0\"\n",
      "                    },\n",
      "                    \"version\": \"2228589006\",\n",
      "                    \"change_category\": 1,\n",
      "                    \"physical_schema\": \"sqlmesh__br_mgi__siasg\"\n",
      "                }\n",
      "            ],\n",
      "            \"version\": \"3218499044\",\n",
      "            \"physical_schema\": \"sqlmesh__br_mgi__siasg\",\n",
      "            \"parents\": [],\n",
      "            \"kind_name\": \"FULL\",\n",
      "            \"node_type\": \"model\"\n",
      "        },\n",
      "        {\n",
      "            \"name\": \"\\\"db\\\".\\\"br_mgi__siasg\\\".\\\"unidades\\\"\",\n",
      "            \"change_category\": 1,\n",
      "            \"fingerprint\": {\n",
      "                \"data_hash\": \"4175166644\",\n",
      "                \"metadata_hash\": \"2068377426\",\n",
      "                \"parent_data_hash\": \"0\",\n",
      "                \"parent_metadata_hash\": \"0\"\n",
      "            },\n",
      "            \"previous_versions\": [\n",
      "                {\n",
      "                    \"fingerprint\": {\n",
      "                        \"data_hash\": \"2040799506\",\n",
      "                        \"metadata_hash\": \"2068377426\",\n",
      "                        \"parent_data_hash\": \"0\",\n",
      "                        \"parent_metadata_hash\": \"0\"\n",
      "                    },\n",
      "                    \"version\": \"3596984857\",\n",
      "                    \"change_category\": 1,\n",
      "                    \"physical_schema\": \"sqlmesh__br_mgi__siasg\"\n",
      "                }\n",
      "            ],\n",
      "            \"version\": \"1396823079\",\n",
      "            \"physical_schema\": \"sqlmesh__br_mgi__siasg\",\n",
      "            \"parents\": [],\n",
      "            \"kind_name\": \"FULL\",\n",
      "            \"node_type\": \"model\"\n",
      "        },\n",
      "        {\n",
      "            \"name\": \"\\\"db\\\".\\\"br_mgi__siasg\\\".\\\"uasgs\\\"\",\n",
      "            \"change_category\": 1,\n",
      "            \"fingerprint\": {\n",
      "                \"data_hash\": \"2838284114\",\n",
      "                \"metadata_hash\": \"2462145869\",\n",
      "                \"parent_data_hash\": \"0\",\n",
      "                \"parent_metadata_hash\": \"0\"\n",
      "            },\n",
      "            \"previous_versions\": [],\n",
      "            \"version\": \"689175032\",\n",
      "            \"physical_schema\": \"sqlmesh__br_mgi__siasg\",\n",
      "            \"parents\": [],\n",
      "            \"kind_name\": \"FULL\",\n",
      "            \"node_type\": \"model\"\n",
      "        }\n",
      "    ]\n",
      "]\n"
     ]
    }
   ],
   "source": [
    "print(json.dumps(json_result, indent=4))"
   ]
  },
  {
   "cell_type": "code",
   "execution_count": null,
   "metadata": {},
   "outputs": [],
   "source": []
  },
  {
   "cell_type": "code",
   "execution_count": null,
   "metadata": {},
   "outputs": [],
   "source": []
  },
  {
   "cell_type": "code",
   "execution_count": 20,
   "metadata": {},
   "outputs": [
    {
     "data": {
      "text/plain": [
       "([5410, 6467, 7838, 56235, 111333], 34698)"
      ]
     },
     "execution_count": 20,
     "metadata": {},
     "output_type": "execute_result"
    }
   ],
   "source": [
    "materiais = list(db.sql(\"select distinct codigoItem from br_mgi__siasg__dev.materiais where statusItem=true and codigoPdm in (select distinct * from read_csv('../seeds/pdms.csv', header=false, columns={'column0': 'BIGINT'})) order by codigoItem\").df()['codigoItem'])\n",
    "(materiais[:5], len(materiais))"
   ]
  },
  {
   "cell_type": "code",
   "execution_count": 21,
   "metadata": {},
   "outputs": [],
   "source": [
    "def fetch_and_save_despesas(codes):\n",
    "    base_url = 'https://dadosabertos.compras.gov.br/modulo-pesquisa-preco/1_consultarMaterial' \n",
    "    \n",
    "    def save_json(code, anopage):\n",
    "        response = requests.get(f'{base_url}?codigoItemCatalogo={code}&pagina={page}').json()\n",
    "        if len(response[\"resultado\"])>0:\n",
    "            if page==1: os.makedirs(f'../seeds/compras/codigoItemCatalogo={code}', exist_ok=True)\n",
    "            with open(f'../seeds/compras/codigoItemCatalogo={code}/page_{page}.json', 'w') as f:\n",
    "                json.dump(response[\"resultado\"], f)\n",
    "        return response\n",
    "    \n",
    "    for code in  progress_bar(codes, leave=False):\n",
    "        response = save_json(code, 1)\n",
    "        total_pages = response.get(\"totalPaginas\", 0)\n",
    "        if total_pages > 1:\n",
    "            for page in range(2, total_pages + 1):\n",
    "                save_json(code, page)"
   ]
  },
  {
   "cell_type": "code",
   "execution_count": 22,
   "metadata": {},
   "outputs": [
    {
     "name": "stdout",
     "output_type": "stream",
     "text": [
      "                                                                                \r"
     ]
    }
   ],
   "source": [
    "fetch_and_save(materiais)"
   ]
  },
  {
   "cell_type": "code",
   "execution_count": null,
   "metadata": {},
   "outputs": [],
   "source": [
    "268236, 448982,273009, "
   ]
  },
  {
   "cell_type": "code",
   "execution_count": null,
   "metadata": {},
   "outputs": [],
   "source": [
    "import requests\n",
    "\n",
    "url = \"https://dadosabertos.compras.gov.br/modulo-pesquisa-preco/1_consultarMaterial?codigoItemCatalogo=407620&pagina=1\"\n",
    "\n",
    "payload = {}\n",
    "headers = {\n",
    "  'Accept': '*/*'\n",
    "}\n",
    "\n",
    "response = requests.request(\"GET\", url, headers=headers, data=payload)\n",
    "\n",
    "print(response.text)"
   ]
  },
  {
   "cell_type": "code",
   "execution_count": null,
   "metadata": {},
   "outputs": [],
   "source": [
    "\n"
   ]
  },
  {
   "cell_type": "code",
   "execution_count": null,
   "metadata": {},
   "outputs": [],
   "source": []
  }
 ],
 "metadata": {
  "kernelspec": {
   "display_name": "Python 3 (ipykernel)",
   "language": "python",
   "name": "python3"
  },
  "language_info": {
   "codemirror_mode": {
    "name": "ipython",
    "version": 3
   },
   "file_extension": ".py",
   "mimetype": "text/x-python",
   "name": "python",
   "nbconvert_exporter": "python",
   "pygments_lexer": "ipython3",
   "version": "3.11.7"
  }
 },
 "nbformat": 4,
 "nbformat_minor": 4
}
