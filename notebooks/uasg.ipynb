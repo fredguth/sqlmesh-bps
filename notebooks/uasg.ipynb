{
 "cells": [
  {
   "cell_type": "markdown",
   "metadata": {},
   "source": [
    "# UASGs\n",
    "> Neste notebook baixamos os dados de materiais da api disponibilizada pelo MGI (dados abertos) e criamos uma base.\n",
    ">\n",
    "> A documentação da API do MGI pode ser encontrada em https://dadosabertos.compras.gov.br/swagger-ui/index.html#/"
   ]
  },
  {
   "cell_type": "code",
   "execution_count": 1,
   "metadata": {},
   "outputs": [
    {
     "name": "stderr",
     "output_type": "stream",
     "text": [
      "/Users/fredguth/Code/sus/sqlmesh/.env/lib/python3.11/site-packages/fastprogress/fastprogress.py:107: UserWarning: Couldn't import ipywidgets properly, progress bar will use console behavior\n",
      "  warn(\"Couldn't import ipywidgets properly, progress bar will use console behavior\")\n"
     ]
    }
   ],
   "source": [
    "import json\n",
    "import duckdb\n",
    "import ipywidgets\n",
    "from fastprogress.fastprogress import master_bar, progress_bar\n",
    "import pandas as pd\n",
    "import requests\n",
    "import os"
   ]
  },
  {
   "cell_type": "markdown",
   "metadata": {},
   "source": [
    "Agora que já baixamos os Materiais e colocamos no BD, vamos baixar as unidades que são usadas pelos materiais que baixamos."
   ]
  },
  {
   "cell_type": "code",
   "execution_count": 2,
   "metadata": {},
   "outputs": [],
   "source": [
    "def fetch_and_save_uasgs():\n",
    "    base_url = 'https://dadosabertos.compras.gov.br/modulo-uasg/1_consultarUasg'\n",
    "    def save_json(status, page):\n",
    "        response = requests.get(f'{base_url}?statusUasg={status}&pagina={page}').json()\n",
    "        with open(f'../seeds/uasgs/status_{status}__page_{page}.json', 'w') as f:\n",
    "            json.dump(response['resultado'], f)\n",
    "        return response\n",
    "    \n",
    "    mb = master_bar([1,0])\n",
    "    os.makedirs(f'../seeds/uasgs', exist_ok=True)\n",
    "    for status in mb:\n",
    "        response = save_json(status, 1)\n",
    "        total_pages = response.get('totalPaginas', 0)\n",
    "        if total_pages > 0:\n",
    "            pb = progress_bar(range(2, total_pages + 1), parent=mb, leave=False)\n",
    "            for page in pb:\n",
    "                save_json(status, page)"
   ]
  },
  {
   "cell_type": "code",
   "execution_count": 3,
   "metadata": {},
   "outputs": [
    {
     "name": "stdout",
     "output_type": "stream",
     "text": [
      "Epoch 2/2 :                                                                       \r"
     ]
    }
   ],
   "source": [
    "fetch_and_save_uasgs()"
   ]
  },
  {
   "cell_type": "code",
   "execution_count": null,
   "metadata": {},
   "outputs": [],
   "source": []
  },
  {
   "cell_type": "code",
   "execution_count": null,
   "metadata": {},
   "outputs": [],
   "source": []
  },
  {
   "cell_type": "code",
   "execution_count": null,
   "metadata": {},
   "outputs": [],
   "source": [
    "\n"
   ]
  },
  {
   "cell_type": "code",
   "execution_count": null,
   "metadata": {},
   "outputs": [],
   "source": []
  }
 ],
 "metadata": {
  "kernelspec": {
   "display_name": "Python 3 (ipykernel)",
   "language": "python",
   "name": "python3"
  },
  "language_info": {
   "codemirror_mode": {
    "name": "ipython",
    "version": 3
   },
   "file_extension": ".py",
   "mimetype": "text/x-python",
   "name": "python",
   "nbconvert_exporter": "python",
   "pygments_lexer": "ipython3",
   "version": "3.11.7"
  }
 },
 "nbformat": 4,
 "nbformat_minor": 4
}
