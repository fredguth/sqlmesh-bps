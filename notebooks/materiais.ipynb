{
 "cells": [
  {
   "cell_type": "markdown",
   "metadata": {},
   "source": [
    "# Materiais\n",
    "> Neste notebook baixamos os dados de materiais da api disponibilizada pelo MGI (dados abertos) e criamos uma base.\n",
    ">\n",
    "> A documentação da API do MGI pode ser encontrada em https://dadosabertos.compras.gov.br/swagger-ui/index.html#/"
   ]
  },
  {
   "cell_type": "code",
   "execution_count": 1,
   "metadata": {},
   "outputs": [
    {
     "name": "stderr",
     "output_type": "stream",
     "text": [
      "/Users/fredguth/Code/sus/sqlmesh/.env/lib/python3.11/site-packages/fastprogress/fastprogress.py:107: UserWarning: Couldn't import ipywidgets properly, progress bar will use console behavior\n",
      "  warn(\"Couldn't import ipywidgets properly, progress bar will use console behavior\")\n"
     ]
    }
   ],
   "source": [
    "import json\n",
    "import ipywidgets\n",
    "from fastprogress.fastprogress import master_bar, progress_bar\n",
    "import pandas as pd\n",
    "import requests\n",
    "import os"
   ]
  },
  {
   "cell_type": "markdown",
   "metadata": {},
   "source": []
  },
  {
   "cell_type": "markdown",
   "metadata": {},
   "source": [
    "A ideia é baixar pela API todos os materiais quem possuam uma das classes de interese:\n",
    "\n",
    "- EQUIPAMENTOS E SUPRIMENTOS DE RAIOS-X DE USO  MÉDICO,  DENTÁRIO E VETERINÁRIO\n",
    "- DROGAS E MEDICAMENTOS\n",
    "- MOBILIÁRIO, EQUIPAMENTOS, UTENSÍLIOS E  SUPRIMENTOS  HOSPITALARES\n",
    "- MATERIAIS CIRÚRGICOS PARA CURATIVOS\n",
    "- DROGAS E PRODUTOS BIOLÓGICOS DE USO VETERINÁRIO\n",
    "- ALIMENTOS ESPECIAIS DIETÉTICOS E PREPARADOS ALIMENTÍCIOS\n",
    "- PESTICIDAS E DESINFETANTES\n",
    "- INSTRUMENTOS, EQUIPAMENTOS E SUPRIMENTOS DENTÁRIOS\n",
    "- COSMÉTICOS E ARTIGOS DE TOUCADOR DE NATUREZA MEDICINAL\n",
    "- JOGOS E CONJUNTOS MÉDICOS\n",
    "- EQUIPAMENTOS E ARTIGOS DE LABORATÓRIO\n",
    "- VESTUÁRIO HOSPITALAR E CIRÚRGICO E ITENS CORRELATOS DE  FINALIDADES ESPECIAIS\n",
    "- SUBSTÂNCIAS PARA DIAGNÓSTICO \"IN VITRO\",  REAGENTES,  CONJUNTOS E JOGOS PARA TESTE\n",
    "- INSTRUMENTOS, EQUIPAMENTOS E SUPRIMENTOS MÉDICOS  E  CIRÚRGICOS\n",
    "- EQUIPAMENTOS, INSTRUMENTOS E SUPRIMENTOS OFTALMOLÓGICOS\n",
    "- PRODUTOS QUÍMICOS"
   ]
  },
  {
   "cell_type": "code",
   "execution_count": 2,
   "metadata": {},
   "outputs": [],
   "source": [
    "c = [6505, 6508, 6509, 6510, 6515, 6520, 6525, 6530, 6532, 6540, 6545, 6550, 6640, 6810, 6840, 8940]"
   ]
  },
  {
   "cell_type": "code",
   "execution_count": 3,
   "metadata": {},
   "outputs": [],
   "source": [
    "def fetch_and_save(codes):\n",
    "    base_url = 'https://dadosabertos.compras.gov.br/modulo-material/4_consultarItemMaterial'\n",
    "    \n",
    "    def save_json(code, page):\n",
    "        response = requests.get(f'{base_url}?codigoClasse={code}&pagina={page}').json()\n",
    "        with open(f'../seeds/materiais/classe={code}/page_{page}.json', 'w') as f:\n",
    "            json.dump(response, f)\n",
    "        return response\n",
    "    \n",
    "    mb = master_bar(codes)\n",
    "    for code in mb:\n",
    "        os.makedirs(f'../seeds/materiais/classe={code}', exist_ok=True)\n",
    "        response = save_json(code, 1)\n",
    "        total_pages = response['totalPaginas']\n",
    "        pb = progress_bar(range(2, total_pages + 1), parent=mb, leave=False)\n",
    "        for page in pb:\n",
    "            save_json(code, page)"
   ]
  },
  {
   "cell_type": "code",
   "execution_count": 4,
   "metadata": {},
   "outputs": [
    {
     "name": "stdout",
     "output_type": "stream",
     "text": [
      "Epoch 16/16 :                                                                        \r"
     ]
    }
   ],
   "source": [
    "fetch_and_save(c)"
   ]
  },
  {
   "cell_type": "code",
   "execution_count": 14,
   "metadata": {},
   "outputs": [],
   "source": [
    "def process_file(filename):\n",
    "    with open(filename, 'r') as json_file:\n",
    "        resultados = json.load(json_file)['resultado']\n",
    "        filepath = filename.replace(\"page\", \"records\")\n",
    "        with open(filepath, \"w\") as f:\n",
    "            f.write(json.dumps(resultados))"
   ]
  },
  {
   "cell_type": "code",
   "execution_count": 15,
   "metadata": {},
   "outputs": [],
   "source": [
    "import fnmatch\n",
    "\n",
    "def process_all_json_files(root_dir):\n",
    "    for root, dirs, files in os.walk(root_dir):\n",
    "        for file in files:\n",
    "            if fnmatch.fnmatch(file, 'page_*.json'):  # Matches only files that start with 'page_' and end with '.json'\n",
    "                file_path = os.path.join(root, file)\n",
    "                process_file(file_path)"
   ]
  },
  {
   "cell_type": "code",
   "execution_count": 16,
   "metadata": {},
   "outputs": [],
   "source": [
    "\n",
    "process_all_json_files('../seeds/materiais')"
   ]
  },
  {
   "cell_type": "code",
   "execution_count": null,
   "metadata": {},
   "outputs": [],
   "source": []
  }
 ],
 "metadata": {
  "kernelspec": {
   "display_name": ".env",
   "language": "python",
   "name": "python3"
  },
  "language_info": {
   "codemirror_mode": {
    "name": "ipython",
    "version": 3
   },
   "file_extension": ".py",
   "mimetype": "text/x-python",
   "name": "python",
   "nbconvert_exporter": "python",
   "pygments_lexer": "ipython3",
   "version": "3.11.7"
  }
 },
 "nbformat": 4,
 "nbformat_minor": 2
}
