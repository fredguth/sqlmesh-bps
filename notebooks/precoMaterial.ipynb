{
 "cells": [
  {
   "cell_type": "markdown",
   "metadata": {},
   "source": [
    "# Preço Material\n",
    "> Neste notebook baixamos os dados de materiais da api disponibilizada pelo MGI (dados abertos) e criamos uma base.\n",
    ">\n",
    "> A documentação da API do MGI pode ser encontrada em https://dadosabertos.compras.gov.br/swagger-ui/index.html#/"
   ]
  },
  {
   "cell_type": "code",
   "execution_count": 1,
   "metadata": {},
   "outputs": [
    {
     "name": "stderr",
     "output_type": "stream",
     "text": [
      "/Users/fredguth/Code/sus/sqlmesh/.env/lib/python3.11/site-packages/fastprogress/fastprogress.py:107: UserWarning: Couldn't import ipywidgets properly, progress bar will use console behavior\n",
      "  warn(\"Couldn't import ipywidgets properly, progress bar will use console behavior\")\n"
     ]
    }
   ],
   "source": [
    "import json\n",
    "import duckdb\n",
    "import ipywidgets\n",
    "from fastprogress.fastprogress import master_bar, progress_bar\n",
    "import pandas as pd\n",
    "import requests\n",
    "import os"
   ]
  },
  {
   "cell_type": "markdown",
   "metadata": {},
   "source": [
    "Agora que já baixamos os Materiais e colocamos no BD, vamos baixar as unidades que são usadas pelos materiais que baixamos."
   ]
  },
  {
   "cell_type": "code",
   "execution_count": 3,
   "metadata": {},
   "outputs": [],
   "source": [
    "db = duckdb.connect('./db.db') #copia"
   ]
  },
  {
   "cell_type": "code",
   "execution_count": 4,
   "metadata": {},
   "outputs": [
    {
     "data": {
      "text/plain": [
       "┌─────────────────────┬─────────────┬─────────┬─────────┬─────────┬─────────┐\n",
       "│     column_name     │ column_type │  null   │   key   │ default │  extra  │\n",
       "│       varchar       │   varchar   │ varchar │ varchar │ varchar │ varchar │\n",
       "├─────────────────────┼─────────────┼─────────┼─────────┼─────────┼─────────┤\n",
       "│ codigoGrupo         │ BIGINT      │ YES     │ NULL    │ NULL    │ NULL    │\n",
       "│ nomeGrupo           │ VARCHAR     │ YES     │ NULL    │ NULL    │ NULL    │\n",
       "│ codigoClasse        │ BIGINT      │ YES     │ NULL    │ NULL    │ NULL    │\n",
       "│ nomeClasse          │ VARCHAR     │ YES     │ NULL    │ NULL    │ NULL    │\n",
       "│ codigoPdm           │ BIGINT      │ YES     │ NULL    │ NULL    │ NULL    │\n",
       "│ nomePdm             │ VARCHAR     │ YES     │ NULL    │ NULL    │ NULL    │\n",
       "│ codigoItem          │ BIGINT      │ YES     │ NULL    │ NULL    │ NULL    │\n",
       "│ descricaoItem       │ VARCHAR     │ YES     │ NULL    │ NULL    │ NULL    │\n",
       "│ statusItem          │ BOOLEAN     │ YES     │ NULL    │ NULL    │ NULL    │\n",
       "│ itemSustentavel     │ BOOLEAN     │ YES     │ NULL    │ NULL    │ NULL    │\n",
       "│ dataHoraAtualizacao │ VARCHAR     │ YES     │ NULL    │ NULL    │ NULL    │\n",
       "│ classe              │ BIGINT      │ YES     │ NULL    │ NULL    │ NULL    │\n",
       "├─────────────────────┴─────────────┴─────────┴─────────┴─────────┴─────────┤\n",
       "│ 12 rows                                                         6 columns │\n",
       "└───────────────────────────────────────────────────────────────────────────┘"
      ]
     },
     "execution_count": 4,
     "metadata": {},
     "output_type": "execute_result"
    }
   ],
   "source": [
    "db.sql(\"describe br_mgi__siasg__dev.materiais\")"
   ]
  },
  {
   "cell_type": "code",
   "execution_count": 20,
   "metadata": {},
   "outputs": [
    {
     "data": {
      "text/plain": [
       "([5410, 6467, 7838, 56235, 111333], 34698)"
      ]
     },
     "execution_count": 20,
     "metadata": {},
     "output_type": "execute_result"
    }
   ],
   "source": [
    "materiais = list(db.sql(\"select distinct codigoItem from br_mgi__siasg__dev.materiais where statusItem=true and codigoPdm in (select distinct * from read_csv('../seeds/pdms.csv', header=false, columns={'column0': 'BIGINT'})) order by codigoItem\").df()['codigoItem'])\n",
    "(materiais[:5], len(materiais))"
   ]
  },
  {
   "cell_type": "code",
   "execution_count": 21,
   "metadata": {},
   "outputs": [],
   "source": [
    "def fetch_and_save_despesas(codes):\n",
    "    base_url = 'https://dadosabertos.compras.gov.br/modulo-pesquisa-preco/1_consultarMaterial' \n",
    "    \n",
    "    def save_json(code, anopage):\n",
    "        response = requests.get(f'{base_url}?codigoItemCatalogo={code}&pagina={page}').json()\n",
    "        if len(response[\"resultado\"])>0:\n",
    "            if page==1: os.makedirs(f'../seeds/compras/codigoItemCatalogo={code}', exist_ok=True)\n",
    "            with open(f'../seeds/compras/codigoItemCatalogo={code}/page_{page}.json', 'w') as f:\n",
    "                json.dump(response[\"resultado\"], f)\n",
    "        return response\n",
    "    \n",
    "    for code in  progress_bar(codes, leave=False):\n",
    "        response = save_json(code, 1)\n",
    "        total_pages = response.get(\"totalPaginas\", 0)\n",
    "        if total_pages > 1:\n",
    "            for page in range(2, total_pages + 1):\n",
    "                save_json(code, page)"
   ]
  },
  {
   "cell_type": "code",
   "execution_count": 22,
   "metadata": {},
   "outputs": [
    {
     "name": "stdout",
     "output_type": "stream",
     "text": [
      "                                                                                \r"
     ]
    }
   ],
   "source": [
    "fetch_and_save(materiais)"
   ]
  },
  {
   "cell_type": "code",
   "execution_count": null,
   "metadata": {},
   "outputs": [],
   "source": [
    "268236, 448982,273009, "
   ]
  },
  {
   "cell_type": "code",
   "execution_count": null,
   "metadata": {},
   "outputs": [],
   "source": [
    "import requests\n",
    "\n",
    "url = \"https://dadosabertos.compras.gov.br/modulo-pesquisa-preco/1_consultarMaterial?codigoItemCatalogo=407620&pagina=1\"\n",
    "\n",
    "payload = {}\n",
    "headers = {\n",
    "  'Accept': '*/*'\n",
    "}\n",
    "\n",
    "response = requests.request(\"GET\", url, headers=headers, data=payload)\n",
    "\n",
    "print(response.text)"
   ]
  },
  {
   "cell_type": "code",
   "execution_count": null,
   "metadata": {},
   "outputs": [],
   "source": [
    "\n"
   ]
  },
  {
   "cell_type": "code",
   "execution_count": null,
   "metadata": {},
   "outputs": [],
   "source": []
  }
 ],
 "metadata": {
  "kernelspec": {
   "display_name": "Python 3 (ipykernel)",
   "language": "python",
   "name": "python3"
  },
  "language_info": {
   "codemirror_mode": {
    "name": "ipython",
    "version": 3
   },
   "file_extension": ".py",
   "mimetype": "text/x-python",
   "name": "python",
   "nbconvert_exporter": "python",
   "pygments_lexer": "ipython3",
   "version": "3.11.7"
  }
 },
 "nbformat": 4,
 "nbformat_minor": 4
}
